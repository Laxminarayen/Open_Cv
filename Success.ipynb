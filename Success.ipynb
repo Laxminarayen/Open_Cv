{
 "cells": [
  {
   "cell_type": "code",
   "execution_count": 1,
   "metadata": {},
   "outputs": [],
   "source": [
    "import numpy as np\n",
    "from scipy import signal\n",
    "from PIL import Image"
   ]
  },
  {
   "cell_type": "code",
   "execution_count": 31,
   "metadata": {},
   "outputs": [],
   "source": [
    "def load_image(path):\n",
    "    return np.asarray(Image.open(path))/255.0"
   ]
  },
  {
   "cell_type": "code",
   "execution_count": 26,
   "metadata": {},
   "outputs": [],
   "source": [
    "def save(path, img):\n",
    "    tmp = np.asarray(img*255.0, dtype=np.uint8)\n",
    "    Image.fromarray(tmp).save(path)"
   ]
  },
  {
   "cell_type": "code",
   "execution_count": 27,
   "metadata": {},
   "outputs": [],
   "source": [
    "def denoise_image(inp):\n",
    "    # estimate 'background' color by a median filter\n",
    "    bg = signal.medfilt2d(inp, 11)\n",
    "    save('background.png', bg)\n",
    "\n",
    "    # compute 'foreground' mask as anything that is significantly darker than\n",
    "    # the background\n",
    "    mask = inp < bg - 0.1\n",
    "    save('foreground_mask.png', mask)\n",
    "\n",
    "    # return the input value for all pixels in the mask or pure white otherwise\n",
    "    return np.where(mask, inp, 1.0)\n"
   ]
  },
  {
   "cell_type": "code",
   "execution_count": 32,
   "metadata": {},
   "outputs": [],
   "source": [
    "inp_path = 'Vfo5y.jpg'\n",
    "out_path = 'output5.png'\n",
    "\n",
    "inp = load_image(inp_path)\n",
    "out = denoise_image(inp)\n",
    "\n",
    "save(out_path, out)"
   ]
  }
 ],
 "metadata": {
  "kernelspec": {
   "display_name": "Python 3.5.1",
   "language": "python",
   "name": "pyth-35"
  },
  "language_info": {
   "codemirror_mode": {
    "name": "ipython",
    "version": 3
   },
   "file_extension": ".py",
   "mimetype": "text/x-python",
   "name": "python",
   "nbconvert_exporter": "python",
   "pygments_lexer": "ipython3",
   "version": "3.5.1"
  }
 },
 "nbformat": 4,
 "nbformat_minor": 2
}
